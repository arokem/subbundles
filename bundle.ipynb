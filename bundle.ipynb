{
 "cells": [
  {
   "cell_type": "markdown",
   "metadata": {},
   "source": [
    "# Bundle Information\n",
    "\n",
    "repository for information from myafq about bundles"
   ]
  },
  {
   "cell_type": "markdown",
   "metadata": {},
   "source": [
    "##### Note: Mistakenly looking for tissue properties in tractogram:\n",
    "\n",
    "(keeping for now for historical purposes)\n",
    "\n",
    "- There is no data in pyAFQ bundle tractogram file\n",
    "\n",
    "- The only data in the main pyAFQ tractogram file is the bundle identifier"
   ]
  },
  {
   "cell_type": "raw",
   "metadata": {},
   "source": [
    "import os.path as op\n",
    "\n",
    "import numpy as np\n",
    "\n",
    "from dipy.io.streamline import load_tractogram\n",
    "\n",
    "from AFQ import api\n",
    "import AFQ.data as afd"
   ]
  },
  {
   "cell_type": "raw",
   "metadata": {},
   "source": [
    "tg_fname = '/Users/bloomdt/AFQ_data/stanford_hardi/derivatives/afq/sub-01/ses-01/bundles/sub-01_ses-01_dwi_space-RASMM_model-DTI_desc-det-AFQ-SLF_L_tractography.trk'\n",
    "\n",
    "myafq = api.AFQ(\n",
    "    bids_path=op.join(afd.afq_home, 'stanford_hardi'),\n",
    "    dmriprep='vistasoft'\n",
    ")\n",
    "\n",
    "row = myafq.data_frame.iloc[0]"
   ]
  },
  {
   "cell_type": "raw",
   "metadata": {},
   "source": [
    "# no tractogram data in bundle specific tracking files\n",
    "print(load_tractogram(tg_fname, 'same').get_data_per_streamline_keys())\n",
    "\n",
    "myafqtck = myafq._get_fname(\n",
    "    row,\n",
    "    f'_tractography.trk',\n",
    "    include_track=True,\n",
    "    include_seg=True\n",
    ")\n",
    "print(load_tractogram(myafqtck, 'same').get_data_per_streamline_keys())\n",
    "\n",
    "# print(nib.streamlines.trk.TrkFile.load(tg_fname).tractogram.data_per_streamline.store)\n",
    "# print(nib.streamlines.trk.TrkFile.load(myafqtck).tractogram.data_per_streamline.store)\n",
    "\n",
    "# only storing bundle id\n",
    "print(np.unique(load_tractogram(myafqtck, 'same').data_per_streamline['bundle']))"
   ]
  },
  {
   "cell_type": "markdown",
   "metadata": {},
   "source": [
    "##### To determine what bundle identifier corresponds to `bundle_name` inspect `bundle_dict`"
   ]
  },
  {
   "cell_type": "raw",
   "metadata": {},
   "source": [
    "bundle_name = 'SLF_L'\n",
    "myafq.bundle_dict.get(bundle_name).get('uid')"
   ]
  },
  {
   "cell_type": "markdown",
   "metadata": {},
   "source": [
    "### Bundle Tract Profile\n",
    "\n",
    "Tract profile represents summarized tissue properties for streamlines within bundle.\n",
    "\n",
    "Used tract profile as example for calculating streamline profile.\n",
    "\n",
    "(keeping for now for historical purposes)"
   ]
  },
  {
   "cell_type": "raw",
   "metadata": {},
   "source": [
    "import os.path as op\n",
    "import numpy as np\n",
    "\n",
    "from dipy.io.streamline import load_tractogram\n",
    "from dipy.stats.analysis import afq_profile, gaussian_weights\n",
    "\n",
    "import nibabel as nib\n",
    "\n",
    "from AFQ import api\n",
    "import AFQ.data as afd"
   ]
  },
  {
   "cell_type": "raw",
   "metadata": {},
   "source": [
    "tg_fname = '/Users/bloomdt/AFQ_data/stanford_hardi/derivatives/afq/sub-01/ses-01/bundles/sub-01_ses-01_dwi_space-RASMM_model-DTI_desc-det-AFQ-SLF_L_tractography.trk'\n",
    "tractogram = load_tractogram(tg_fname, 'same')\n",
    "streamlines = tractogram.streamlines\n",
    "affine = tractogram.affine\n",
    "\n",
    "myafq = api.AFQ(\n",
    "    bids_path=op.join(afd.afq_home, 'stanford_hardi'),\n",
    "    dmriprep='vistasoft'\n",
    ")\n",
    "\n",
    "row = myafq.data_frame.iloc[0]\n",
    "\n",
    "scalar_file = myafq._get_fname(\n",
    "    row,\n",
    "    f'_model-DTI_FA.nii.gz'\n",
    ")\n",
    "\n",
    "print(scalar_file)\n",
    "\n",
    "scalar_data = nib.load(scalar_file).get_fdata()"
   ]
  },
  {
   "cell_type": "raw",
   "metadata": {},
   "source": [
    "afq_profile(\n",
    "    scalar_data,\n",
    "    streamlines,\n",
    "    affine,\n",
    "    weights=gaussian_weights(streamlines)\n",
    ")"
   ]
  },
  {
   "cell_type": "code",
   "execution_count": null,
   "metadata": {},
   "outputs": [],
   "source": []
  }
 ],
 "metadata": {
  "kernelspec": {
   "display_name": "Python 3",
   "language": "python",
   "name": "python3"
  },
  "language_info": {
   "codemirror_mode": {
    "name": "ipython",
    "version": 3
   },
   "file_extension": ".py",
   "mimetype": "text/x-python",
   "name": "python",
   "nbconvert_exporter": "python",
   "pygments_lexer": "ipython3",
   "version": "3.8.5"
  }
 },
 "nbformat": 4,
 "nbformat_minor": 4
}
