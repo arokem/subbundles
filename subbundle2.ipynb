{
 "cells": [
  {
   "cell_type": "markdown",
   "metadata": {},
   "source": [
    "# Subbundles Part 2: Streamlines\n",
    "\n",
    "**Subbundle** - a subgroup of streamlines with a set of common properties\n",
    "\n",
    "Part 2: get `streamlines` and `affine`"
   ]
  },
  {
   "cell_type": "code",
   "execution_count": 1,
   "metadata": {},
   "outputs": [
    {
     "name": "stderr",
     "output_type": "stream",
     "text": [
      "/Users/bloomdt/anaconda/envs/subbundles/lib/python3.8/site-packages/dask/dataframe/utils.py:13: FutureWarning: pandas.util.testing is deprecated. Use the functions in the public API at pandas.testing instead.\n",
      "  import pandas.util.testing as tm\n"
     ]
    }
   ],
   "source": [
    "from utils import get_tractogram_filename\n",
    "\n",
    "import os.path as op\n",
    "\n",
    "from dipy.io.streamline import load_tractogram\n",
    "\n",
    "from AFQ import api\n",
    "import AFQ.data as afd"
   ]
  },
  {
   "cell_type": "markdown",
   "metadata": {},
   "source": [
    "## AFQ (from Part 1)\n",
    "\n",
    "Instantiate AFQ object: `myafq` for desired dataset"
   ]
  },
  {
   "cell_type": "code",
   "execution_count": 2,
   "metadata": {
    "scrolled": false
   },
   "outputs": [
    {
     "name": "stderr",
     "output_type": "stream",
     "text": [
      "INFO:dipy.data.fetcher:Dataset is already in place. If you want to fetch it again please first remove the folder /Users/bloomdt/AFQ_data/templates \n",
      "INFO:dipy.data.fetcher:Dataset is already in place. If you want to fetch it again please first remove the folder /Users/bloomdt/AFQ_data/callosum_templates \n",
      "/Users/bloomdt/anaconda/envs/subbundles/lib/python3.8/site-packages/bids/layout/models.py:98: FutureWarning: The 'extension' entity currently excludes the leading dot ('.'). As of version 0.14.0, it will include the leading dot. To suppress this warning and include the leading dot, use `bids.config.set_option('extension_initial_dot', True)`.\n",
      "  warnings.warn(\"The 'extension' entity currently excludes the leading dot ('.'). \"\n"
     ]
    }
   ],
   "source": [
    "myafq = api.AFQ(\n",
    "    bids_path=op.join(afd.afq_home, 'stanford_hardi'),\n",
    "    dmriprep='vistasoft'\n",
    ")"
   ]
  },
  {
   "cell_type": "markdown",
   "metadata": {},
   "source": [
    "## Bundles\n",
    "\n",
    "0. Fornix (from QuickBundle example)\n",
    "1. SLF\n",
    "2. Corpus Callosum\n",
    "3. Novel bundle\n",
    "4. Whole brain"
   ]
  },
  {
   "cell_type": "markdown",
   "metadata": {},
   "source": [
    "### Get Tractogram File\n",
    "\n",
    "Name of tractogram file: `tg_fname` used for importing initial streamlines. Streamlines may represent whole brain or some subset (bundle)."
   ]
  },
  {
   "cell_type": "markdown",
   "metadata": {},
   "source": [
    "### <span style=\"color:red\">NOTE: By default use pyAFQ tractogram, otherwise:</span>\n",
    "\n",
    "- **Enable and run cells to use Fornix from dipy**\n",
    "\n",
    "  - useful if interested in baseline comparison to QuickBundle\n",
    "  \n",
    "\n",
    "#### 0. Fornix\n",
    "\n",
    "<span style=\"color:blue\">**TODO: Verify have Tissue properties for Fornix**</span>"
   ]
  },
  {
   "cell_type": "raw",
   "metadata": {},
   "source": [
    "from dipy.data import get_fnames"
   ]
  },
  {
   "cell_type": "raw",
   "metadata": {},
   "source": [
    "bundle_name='fornix'\n",
    "\n",
    "tg_fname = get_fnames('fornix')\n",
    "\n",
    "print(bundle_name,\"tractogram file:\", tg_fname)"
   ]
  },
  {
   "cell_type": "markdown",
   "metadata": {},
   "source": [
    "#### 1. SLF - *superior longitudinal fasciculus* (reproduce)\n",
    "\n",
    "- Grotheer, M., Zhen, Z., Lerma-Usabiaga, G., & Grill-Spector, K. (2019). Separate lanes for adding and reading in the white matter highways of the human brain. Nature communications, 10(1), 1-14.\n",
    "\n",
    "  https://www.nature.com/articles/s41467-019-11424-1\n",
    "\n",
    "\n",
    "- Schurr, R., Zelman, A., & Mezer, A. A. (2020). Subdividing the superior longitudinal fasciculus using local quantitative MRI. NeuroImage, 208, 116439.\n",
    "\n",
    "  https://www.sciencedirect.com/science/article/pii/S1053811919310304\n",
    "  \n",
    "\n",
    "- De Schotten, M. T., Dell’Acqua, F., Forkel, S., Simmons, A., Vergani, F., Murphy, D. G., & Catani, M. (2011). A lateralized brain network for visuo-spatial attention. Nature Precedings, 1-1.\n",
    "\n",
    "  https://www.nature.com/articles/npre.2011.5549.1\n",
    "  https://www.researchgate.net/publication/281573090_A_lateralized_brain_network_for_spatial_attention"
   ]
  },
  {
   "cell_type": "markdown",
   "metadata": {},
   "source": [
    "<span style=\"color:blue\">**TODO: Run for Left and Right SLF bundles**</span>"
   ]
  },
  {
   "cell_type": "markdown",
   "metadata": {},
   "source": [
    "### <span style=\"color:red\">NOTE: By default use SLF_L bundle, otherwise:</span>\n",
    "\n",
    "- **Change `bundle_name`**\n",
    "\n",
    "  - pyAFQ segmentation was run with default bundles. To determine valid names can either:\n",
    "  \n",
    "     - refer to [documentation](https://yeatmanlab.github.io/pyAFQ/), or \n",
    "     \n",
    "     - inspect the `myafq.bundle_dict` object"
   ]
  },
  {
   "cell_type": "code",
   "execution_count": 3,
   "metadata": {},
   "outputs": [
    {
     "name": "stdout",
     "output_type": "stream",
     "text": [
      "SLF_L tractogram file: /Users/bloomdt/AFQ_data/stanford_hardi/derivatives/afq/sub-01/ses-01/bundles/sub-01_ses-01_dwi_space-RASMM_model-DTI_desc-det-AFQ-SLF_L_tractography.trk\n"
     ]
    }
   ],
   "source": [
    "bundle_name='SLF_L'\n",
    "\n",
    "tg_fname = get_tractogram_filename(myafq, bundle_name)\n",
    "\n",
    "print(bundle_name,\"tractogram file:\", tg_fname)"
   ]
  },
  {
   "cell_type": "markdown",
   "metadata": {},
   "source": [
    "#### 2. Corpus callosum tract profiles (baseline)"
   ]
  },
  {
   "cell_type": "markdown",
   "metadata": {},
   "source": [
    "<span style=\"color:blue\">**TODO: Corpus callosum tractometry**</span>\n",
    "\n",
    "- define ROIs\n",
    "\n",
    "  - use midsaggital inclusion ROI and through midline\n",
    "  \n",
    "  - union of all callosum bundles"
   ]
  },
  {
   "cell_type": "markdown",
   "metadata": {},
   "source": [
    "#### 3. Novel bundles (predictive)\n",
    "\n",
    "Bundles where results are less established and more speculative\n",
    "\n",
    "<span style=\"color:blue\">**TODO: select existing bundles**</span>\n",
    "\n",
    "- <span style=\"color:red\">**Question: what bundles choose?**</span>\n",
    "\n",
    "  - Are there other bundles that would be ideal candidates? If so, why?\n",
    "  \n",
    "  - What does literature say?\n",
    "  \n",
    "  - Could be greedy run on all bundles defined by RECO or Waypoint ROI\n",
    "\n",
    "- <span style=\"color:red\">**Question: are there any bundles that do not result in subbundles?**</span>\n",
    "\n",
    "  - Or does this approach always subdivide?\n",
    "  \n",
    "    - For example if recursively use outputs as inputs, will there always be more subbundles?"
   ]
  },
  {
   "cell_type": "markdown",
   "metadata": {},
   "source": [
    "#### 4. Whole Brain Tractometry\n",
    "\n",
    "<span style=\"color:blue\">**TODO: Run on whole brain tractometry**</span>\n",
    "\n",
    "- See whether reproduce same top level bundles"
   ]
  },
  {
   "cell_type": "markdown",
   "metadata": {},
   "source": [
    "### Get Streamlines"
   ]
  },
  {
   "cell_type": "code",
   "execution_count": 4,
   "metadata": {},
   "outputs": [
    {
     "name": "stdout",
     "output_type": "stream",
     "text": [
      "streamlines: 465\n"
     ]
    }
   ],
   "source": [
    "tractogram = load_tractogram(tg_fname, 'same')# , bbox_valid_check=False)\n",
    "streamlines = tractogram.streamlines\n",
    "print(\"streamlines:\", len(streamlines))"
   ]
  },
  {
   "cell_type": "code",
   "execution_count": 5,
   "metadata": {
    "scrolled": true
   },
   "outputs": [
    {
     "name": "stdout",
     "output_type": "stream",
     "text": [
      "[[   2.    0.    0.  -80.]\n",
      " [   0.    2.    0. -120.]\n",
      " [   0.    0.    2.  -60.]\n",
      " [   0.    0.    0.    1.]]\n"
     ]
    }
   ],
   "source": [
    "affine = tractogram.affine\n",
    "print(affine)"
   ]
  },
  {
   "cell_type": "code",
   "execution_count": null,
   "metadata": {},
   "outputs": [],
   "source": []
  }
 ],
 "metadata": {
  "kernelspec": {
   "display_name": "Python 3",
   "language": "python",
   "name": "python3"
  },
  "language_info": {
   "codemirror_mode": {
    "name": "ipython",
    "version": 3
   },
   "file_extension": ".py",
   "mimetype": "text/x-python",
   "name": "python",
   "nbconvert_exporter": "python",
   "pygments_lexer": "ipython3",
   "version": "3.8.5"
  }
 },
 "nbformat": 4,
 "nbformat_minor": 4
}
