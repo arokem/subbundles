{
 "cells": [
  {
   "cell_type": "markdown",
   "metadata": {},
   "source": [
    "# Subbundles Part 1: Data\n",
    "\n",
    "**Subbundle** - a subgroup of streamlines with a set of common properties\n",
    "\n",
    "\n",
    "Subbundles should be:\n",
    "\n",
    "- Substantially different\n",
    "\n",
    "  *[Otsu’s criterium](https://en.wikipedia.org/wiki/Otsu%27s_method)* \n",
    "  \n",
    "  - variance within subbundle small\n",
    "\n",
    "  - variance across subbundles large\n",
    "  \n",
    "- [Reliable](https://en.wikipedia.org/wiki/Reliability_(statistics)) across individuals\n",
    "\n",
    "\n",
    "### Objective\n",
    "\n",
    "[Unsupervised learning](https://en.wikipedia.org/wiki/Cluster_analysis) applied to [white matter bundles](https://en.wikipedia.org/wiki/Nerve_tract) to identify candidate subbundles\n"
   ]
  },
  {
   "cell_type": "markdown",
   "metadata": {},
   "source": [
    "### <span style=\"color:red\">**NOTE: Need to think about how to store results of expirements**</span>\n",
    "\n",
    "Currently:\n",
    "\n",
    "- Rerunning will overwrite files\n",
    "\n",
    "- Do not store any metadata about what was run\n",
    "\n",
    "- Save all artifacts and images\n",
    "\n",
    "- Does not output `tck` files"
   ]
  },
  {
   "cell_type": "markdown",
   "metadata": {},
   "source": [
    "## Targeting Conference Abstract Deadlines \n",
    "\n",
    "\n",
    "- [**(OHBM) Organization for Human Brain Mapping**](https://www.humanbrainmapping.org/i4a/pages/index.cfm?pageid=4024)\n",
    "\n",
    "December ?\n",
    "\n",
    "\n",
    "- [(ISMRM) International Society for Magnetic Resonance in Medicine](https://www.ismrm.org/21m/)\n",
    "\n",
    "16 December 2020 at 23:59 EST\n",
    "\n",
    "  - focused on general MRI methodology\n",
    "\n",
    "\n",
    "Working backwards **want some reliable results within next few weeks**"
   ]
  },
  {
   "cell_type": "code",
   "execution_count": 1,
   "metadata": {},
   "outputs": [
    {
     "name": "stderr",
     "output_type": "stream",
     "text": [
      "/Users/bloomdt/anaconda/envs/subbundles/lib/python3.8/site-packages/dask/dataframe/utils.py:13: FutureWarning: pandas.util.testing is deprecated. Use the functions in the public API at pandas.testing instead.\n",
      "  import pandas.util.testing as tm\n"
     ]
    }
   ],
   "source": [
    "import os.path as op\n",
    "\n",
    "from AFQ import api\n",
    "import AFQ.data as afd\n",
    "\n",
    "import plotly\n",
    "from IPython.display import Image"
   ]
  },
  {
   "cell_type": "markdown",
   "metadata": {},
   "source": [
    "## Datasets\n",
    "\n",
    "0. Simulated data (*optional*)\n",
    "\n",
    "1. High Angular Resolution Diffusion MRI (HARDI) [<sup>1</sup>](https://figshare.com/articles/dataset/pyAFQ_Stanford_HARDI_tractography_and_mapping/3409882) [<sup>2</sup>](https://searchworks.stanford.edu/view/yx282xq2090)\n",
    "\n",
    "2. Human Connectome Project ([HCP](http://www.humanconnectomeproject.org)) [<sup>1</sup>](https://www.humanconnectome.org/study/hcp-young-adult/document/1200-subjects-data-release)"
   ]
  },
  {
   "cell_type": "markdown",
   "metadata": {},
   "source": [
    "### <span style=\"color:red\">NOTE: By default assumes dataset exists, otherwise:</span>\n",
    "\n",
    "- **Enable and run approriate cell to download the desired dataset**"
   ]
  },
  {
   "cell_type": "markdown",
   "metadata": {},
   "source": [
    "### 1. HARDI\n",
    "\n",
    "Single subject single session\n",
    "\n",
    "<span style=\"color:blue\">**TODO: Download additional HARDI subjects?**</span>"
   ]
  },
  {
   "cell_type": "code",
   "execution_count": null,
   "metadata": {},
   "outputs": [],
   "source": [
    "afd.organize_stanford_data()"
   ]
  },
  {
   "cell_type": "markdown",
   "metadata": {},
   "source": [
    "### 2. HCP\n",
    "\n",
    "Single subject single session\n",
    "\n",
    "### <span style=\"color:red\">NOTE: Subject 100307 selected as exemplar from [HCP 1200 Subjects Data Release Reference Manual](https://www.humanconnectome.org/storage/app/media/documentation/s1200/HCP_S1200_Release_Reference_Manual.pdf)</span>\n",
    "\n",
    "<span style=\"color:blue\">**TODO: talk to John about HCP data**</span>\n",
    "\n",
    "- <span style=\"color:red\">**Question: Are there certain subjects we have been using for quality control?**</span>\n",
    "\n",
    "  - Should look for subjects with certain properties?\n",
    "  \n",
    "    Like: \n",
    "\n",
    "    - test-retest? -- 44 subjects\n",
    "    \n",
    "    - twins?\n",
    "    \n",
    "    - demographic properties?"
   ]
  },
  {
   "cell_type": "raw",
   "metadata": {},
   "source": [
    "subjects = [100307]\n",
    "afd.fetch_hcp(subjects)"
   ]
  },
  {
   "cell_type": "markdown",
   "metadata": {},
   "source": [
    "## Generate Tract Profiles\n",
    "\n",
    "1. Single individual from HARDI dataset\n",
    "\n",
    "2. Multiple individuals from HARDI dataset\n",
    "\n",
    "3. Multiple individuals from HCP dataset\n",
    "\n",
    "### <span style=\"color:red\">NOTE: Number of individuals depends on the number of subject in `bids_path`</span>\n"
   ]
  },
  {
   "cell_type": "markdown",
   "metadata": {},
   "source": [
    "### <span style=\"color:red\">NOTE: By default uses HARDI dataset</span>\n",
    "\n",
    "- **To use HCP: Disable HARDI cell then enable and run appropriate HCP cell**\n",
    "\n",
    "- **To use another dataset:**\n",
    "\n",
    "  - Download desired dataset and ensure dataset is BIDS compliant. Both can be done outside notebook.\n",
    "  \n",
    "  - Disable HARDI cell and add new cell with required configuration information to `myafq=api.AFQ(...)` for you dataset "
   ]
  },
  {
   "cell_type": "markdown",
   "metadata": {},
   "source": [
    "<span style=\"color:blue\">**TODO: Run and compare deterministic and probabilistic tractography**</span>"
   ]
  },
  {
   "cell_type": "markdown",
   "metadata": {},
   "source": [
    "### 1. Individual(s) from HARDI dataset"
   ]
  },
  {
   "cell_type": "code",
   "execution_count": 2,
   "metadata": {},
   "outputs": [
    {
     "name": "stderr",
     "output_type": "stream",
     "text": [
      "INFO:dipy.data.fetcher:Dataset is already in place. If you want to fetch it again please first remove the folder /Users/bloomdt/AFQ_data/templates \n",
      "INFO:dipy.data.fetcher:Dataset is already in place. If you want to fetch it again please first remove the folder /Users/bloomdt/AFQ_data/callosum_templates \n",
      "/Users/bloomdt/anaconda/envs/subbundles/lib/python3.8/site-packages/bids/layout/models.py:98: FutureWarning: The 'extension' entity currently excludes the leading dot ('.'). As of version 0.14.0, it will include the leading dot. To suppress this warning and include the leading dot, use `bids.config.set_option('extension_initial_dot', True)`.\n",
      "  warnings.warn(\"The 'extension' entity currently excludes the leading dot ('.'). \"\n"
     ]
    }
   ],
   "source": [
    "myafq = api.AFQ(\n",
    "    bids_path=op.join(afd.afq_home, 'stanford_hardi'),\n",
    "    dmriprep='vistasoft'\n",
    ")"
   ]
  },
  {
   "cell_type": "markdown",
   "metadata": {},
   "source": [
    "### 2. Individual(s) from HCP dataset"
   ]
  },
  {
   "cell_type": "raw",
   "metadata": {},
   "source": [
    "myafq = api.AFQ(\n",
    "    bids_path=op.join(afd.afq_home, 'HCP_1200'),\n",
    "    dmriprep='dmriprep'\n",
    ")"
   ]
  },
  {
   "cell_type": "markdown",
   "metadata": {},
   "source": [
    "### Segmentation\n",
    "\n",
    "### <span style=\"color:red\">NOTE: By default assumes segmentation artifacts exist, otherwise:</span>\n",
    "\n",
    "- **Enable and run cells to segment and visualize bundles and tract profiles**"
   ]
  },
  {
   "cell_type": "code",
   "execution_count": null,
   "metadata": {},
   "outputs": [],
   "source": [
    "myafq.export_all()"
   ]
  },
  {
   "cell_type": "markdown",
   "metadata": {},
   "source": [
    "### Vizualization\n",
    "\n",
    "optional quality control check"
   ]
  },
  {
   "cell_type": "raw",
   "metadata": {},
   "source": [
    "bundle_html = myafq.viz_bundles(export=True, n_points=50)\n",
    "plotly.io.show(bundle_html[0])"
   ]
  },
  {
   "cell_type": "raw",
   "metadata": {},
   "source": [
    "myafq.plot_tract_profiles()\n",
    "Image(filename=myafq.data_frame['tract_profiles_viz'][0][0]+'.png', width = 500)"
   ]
  },
  {
   "cell_type": "code",
   "execution_count": null,
   "metadata": {},
   "outputs": [],
   "source": []
  }
 ],
 "metadata": {
  "kernelspec": {
   "display_name": "Python 3",
   "language": "python",
   "name": "python3"
  },
  "language_info": {
   "codemirror_mode": {
    "name": "ipython",
    "version": 3
   },
   "file_extension": ".py",
   "mimetype": "text/x-python",
   "name": "python",
   "nbconvert_exporter": "python",
   "pygments_lexer": "ipython3",
   "version": "3.8.5"
  }
 },
 "nbformat": 4,
 "nbformat_minor": 4
}
